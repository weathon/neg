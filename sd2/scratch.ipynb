{
 "cells": [
  {
   "cell_type": "code",
   "execution_count": 1,
   "id": "7de61fb5",
   "metadata": {},
   "outputs": [
    {
     "data": {
      "application/vnd.jupyter.widget-view+json": {
       "model_id": "c0fc201c547a4c10a46f6e81726f2bb9",
       "version_major": 2,
       "version_minor": 0
      },
      "text/plain": [
       "Loading pipeline components...:   0%|          | 0/9 [00:00<?, ?it/s]"
      ]
     },
     "metadata": {},
     "output_type": "display_data"
    },
    {
     "name": "stderr",
     "output_type": "stream",
     "text": [
      "You set `add_prefix_space`. The tokenizer needs to be converted from the slow tokenizers\n"
     ]
    },
    {
     "data": {
      "application/vnd.jupyter.widget-view+json": {
       "model_id": "7d3ff8a0314e410ab7605526ec615fb8",
       "version_major": 2,
       "version_minor": 0
      },
      "text/plain": [
       "Loading checkpoint shards:   0%|          | 0/2 [00:00<?, ?it/s]"
      ]
     },
     "metadata": {},
     "output_type": "display_data"
    },
    {
     "data": {
      "application/vnd.jupyter.widget-view+json": {
       "model_id": "e122e7d76f044f068a951bd87033638a",
       "version_major": 2,
       "version_minor": 0
      },
      "text/plain": [
       "  0%|          | 0/15 [00:00<?, ?it/s]"
      ]
     },
     "metadata": {},
     "output_type": "display_data"
    }
   ],
   "source": [
    "import torch\n",
    "from diffusers import StableDiffusion3Pipeline\n",
    "from attention_map_diffusers import (\n",
    "    attn_maps,\n",
    "    init_pipeline,\n",
    "    save_attention_maps\n",
    ")\n",
    "\n",
    "pipe = StableDiffusion3Pipeline.from_pretrained(\n",
    "    \"stabilityai/stable-diffusion-3.5-medium\",\n",
    "    torch_dtype=torch.bfloat16\n",
    ")\n",
    "pipe = pipe.to(\"cuda\")\n",
    "\n",
    "pipe = init_pipeline(pipe)\n",
    "\n",
    "prompts = [\n",
    "    \"A capybara holding a sign that reads Hello World.\",\n",
    "]\n",
    "\n",
    "images = pipe(\n",
    "    prompts,\n",
    "    negative_prompt=\"hands\",\n",
    "    num_inference_steps=15,\n",
    "    guidance_scale=4.5,\n",
    ").images\n",
    "\n",
    "for batch, image in enumerate(images):\n",
    "    image.save(f'{batch}-sd3-5.png')\n",
    "\n",
    "save_attention_maps(attn_maps, pipe.tokenizer, prompts, base_dir='attn_maps-sd3-5', unconditional=True)"
   ]
  },
  {
   "cell_type": "code",
   "execution_count": null,
   "id": "6cf423cb",
   "metadata": {},
   "outputs": [],
   "source": []
  },
  {
   "cell_type": "code",
   "execution_count": 2,
   "id": "5b07e491",
   "metadata": {},
   "outputs": [
    {
     "data": {
      "text/plain": [
       "<matplotlib.image.AxesImage at 0x7700dc64b940>"
      ]
     },
     "execution_count": 2,
     "metadata": {},
     "output_type": "execute_result"
    },
    {
     "data": {
      "image/png": "[encoded data removed]",
      "text/plain": [
       "<Figure size 640x480 with 1 Axes>"
      ]
     },
     "metadata": {},
     "output_type": "display_data"
    }
   ],
   "source": [
    "import os\n",
    "import torch.nn.functional as F\n",
    "\n",
    "token_ids =pipe.tokenizer([\"hands\"])['input_ids']\n",
    "# token_ids = pipe.tokenizer(prompts)['input_ids']\n",
    "token_ids = token_ids if token_ids and isinstance(token_ids[0], list) else [token_ids]\n",
    "total_tokens = [pipe.tokenizer.convert_ids_to_tokens(token_id) for token_id in token_ids]\n",
    "\n",
    "total_attn_map = list(list(attn_maps.values())[0].values())[0].sum(1)\n",
    "total_attn_map = total_attn_map.chunk(2)[0]  # (batch, height, width, attn_dim)\n",
    "total_attn_map = total_attn_map.permute(0, 3, 1, 2)\n",
    "total_attn_map = torch.zeros_like(total_attn_map)\n",
    "total_attn_map_shape = total_attn_map.shape[-2:]\n",
    "\n",
    "layers = list(attn_maps.values())[10]\n",
    "maps = []\n",
    "for layer, attn_map in layers.items():\n",
    "    layer_dir = os.path.join(f'{layer}')\n",
    "    \n",
    "    attn_map = attn_map.sum(1).squeeze(1).permute(0, 3, 1, 2)\n",
    "    attn_map = attn_map.chunk(2)[0]\n",
    "    \n",
    "    resized_attn_map = F.interpolate(attn_map, size=total_attn_map_shape, mode='bilinear', align_corners=False)\n",
    "    total_attn_map += resized_attn_map\n",
    "    \n",
    "    for batch, (tokens, attn) in enumerate(zip(total_tokens, attn_map)):\n",
    "        batch_dir = os.path.join(layer_dir, f'batch-{batch}')\n",
    "        maps.append(attn_map)\n",
    "\n",
    "import pylab\n",
    "pylab.imshow(resized_attn_map.detach().float().cpu().numpy().mean(0)[1:2].mean(0) + resized_attn_map.detach().float().cpu().numpy().mean(0)[77:78].mean(0))"
   ]
  },
  {
   "cell_type": "code",
   "execution_count": 3,
   "id": "5b277f14",
   "metadata": {},
   "outputs": [
    {
     "data": {
      "text/plain": [
       "{0: '▁hands', 1: '</s>'}"
      ]
     },
     "execution_count": 3,
     "metadata": {},
     "output_type": "execute_result"
    }
   ],
   "source": [
    "token_ids =pipe.tokenizer_3([\"hands\"])['input_ids']\n",
    "token_ids = token_ids if token_ids and isinstance(token_ids[0], list) else [token_ids]\n",
    "total_tokens = [pipe.tokenizer_3.convert_ids_to_tokens(token_id) for token_id in token_ids]\n",
    "{i:j for i, j in enumerate(total_tokens[0])}"
   ]
  }
 ],
 "metadata": {
  "kernelspec": {
   "display_name": "neg",
   "language": "python",
   "name": "python3"
  },
  "language_info": {
   "codemirror_mode": {
    "name": "ipython",
    "version": 3
   },
   "file_extension": ".py",
   "mimetype": "text/x-python",
   "name": "python",
   "nbconvert_exporter": "python",
   "pygments_lexer": "ipython3",
   "version": "3.10.17"
  }
 },
 "nbformat": 4,
 "nbformat_minor": 5
}
